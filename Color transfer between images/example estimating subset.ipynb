{
 "cells": [
  {
   "cell_type": "code",
   "execution_count": 12,
   "id": "e4a18b96",
   "metadata": {},
   "outputs": [],
   "source": [
    "import os.path\n",
    "import sys\n",
    "sys.path.append('/home/chenyidong/keops')\n",
    "import numpy as np\n",
    "import torch\n",
    "from random import choices\n",
    "import imageio\n",
    "from pykeops.torch import LazyTensor\n",
    "from pykeops.torch.cluster import grid_cluster\n",
    "import pandas as pd\n",
    "import numpy as np\n",
    "from pykeops.torch.cluster import cluster_ranges_centroids\n",
    "from pykeops.torch import generic_argmin\n",
    "from pykeops.torch import generic_argmin\n",
    "from pykeops.torch import generic_sum,generic_logsumexp,generic_argmin\n",
    "from pykeops.torch import generic_argmin\n",
    "from pykeops.torch import generic_sum,generic_logsumexp,generic_argmin\n",
    "use_cuda = torch.cuda.is_available()\n",
    "dtype = torch.cuda.DoubleTensor if use_cuda else torch.FloatTensor\n",
    "from mytools import load_image,RGB_cloud,get_measure,combine_measure,squared_distances,sort_clusters,progate\n",
    "from SparseSinkhorn import  sinkhorn_on_log_domain_GPU_keops,sinkhorn_on_log_domain_GPU\n",
    " "
   ]
  },
  {
   "cell_type": "code",
   "execution_count": 13,
   "id": "95174e0e",
   "metadata": {},
   "outputs": [],
   "source": [
    "d = 3\n",
    "n = 500\n",
    "X_i_cpu = np.random.randn(n,d) \n",
    "Y_j_cpu = np.random.randn(n,d)\n",
    "X_i = torch.from_numpy(X_i_cpu).type(dtype).view(-1, d)\n",
    "Y_j = torch.from_numpy(Y_j_cpu).type(dtype).view(-1, d)\n",
    "a = np.ones((len(X_i_cpu),1))/X_i_cpu.shape[0]\n",
    "b = np.ones((len(Y_j_cpu),1))/Y_j_cpu.shape[0]"
   ]
  },
  {
   "cell_type": "code",
   "execution_count": 14,
   "id": "c4deaeb4",
   "metadata": {},
   "outputs": [],
   "source": [
    "# solve by the pot !pip install POTa\n",
    "import ot\n",
    "\n",
    "M = np.sum((X_i_cpu[:, None, :] - Y_j_cpu[None, :, :]) ** 2, 2)\n",
    "T = ot.emd(np.squeeze(a), np.squeeze(b), M)  # exact linear program\n",
    "distance = np.sum(np.multiply(T,M))"
   ]
  },
  {
   "cell_type": "code",
   "execution_count": 15,
   "id": "a78bc862",
   "metadata": {},
   "outputs": [
    {
     "name": "stdout",
     "output_type": "stream",
     "text": [
      "tensor(1.1101e-30, device='cuda:0', dtype=torch.float64)\n",
      "tensor(1., device='cuda:0', dtype=torch.float64)\n",
      "tensor(6.6129e-31, device='cuda:0', dtype=torch.float64)\n",
      "tensor(2., device='cuda:0', dtype=torch.float64)\n",
      "tensor(1.2427e-30, device='cuda:0', dtype=torch.float64)\n",
      "tensor(3., device='cuda:0', dtype=torch.float64)\n",
      "tensor(5.2897e-31, device='cuda:0', dtype=torch.float64)\n",
      "tensor(4., device='cuda:0', dtype=torch.float64)\n",
      "tensor(1.3743e-30, device='cuda:0', dtype=torch.float64)\n",
      "tensor(5., device='cuda:0', dtype=torch.float64)\n",
      "tensor(5.4571e-31, device='cuda:0', dtype=torch.float64)\n",
      "tensor(6., device='cuda:0', dtype=torch.float64)\n",
      "tensor(6.9194e-31, device='cuda:0', dtype=torch.float64)\n",
      "tensor(7., device='cuda:0', dtype=torch.float64)\n",
      "tensor(1.1328e-30, device='cuda:0', dtype=torch.float64)\n",
      "tensor(8., device='cuda:0', dtype=torch.float64)\n",
      "tensor(5.8032e-31, device='cuda:0', dtype=torch.float64)\n",
      "tensor(9., device='cuda:0', dtype=torch.float64)\n",
      "tensor(1.2449e-30, device='cuda:0', dtype=torch.float64)\n",
      "tensor(10., device='cuda:0', dtype=torch.float64)\n",
      "tensor(6.1370e-31, device='cuda:0', dtype=torch.float64)\n",
      "tensor(11., device='cuda:0', dtype=torch.float64)\n",
      "tensor(8.3385e-31, device='cuda:0', dtype=torch.float64)\n",
      "tensor(12., device='cuda:0', dtype=torch.float64)\n",
      "tensor(4.7706e-31, device='cuda:0', dtype=torch.float64)\n",
      "tensor(13., device='cuda:0', dtype=torch.float64)\n",
      "tensor(3.6092e-31, device='cuda:0', dtype=torch.float64)\n",
      "tensor(14., device='cuda:0', dtype=torch.float64)\n",
      "tensor(2.5908e-31, device='cuda:0', dtype=torch.float64)\n",
      "tensor(15., device='cuda:0', dtype=torch.float64)\n",
      "tensor(2.6021e-31, device='cuda:0', dtype=torch.float64)\n",
      "tensor(16., device='cuda:0', dtype=torch.float64)\n",
      "tensor(7.1019e-31, device='cuda:0', dtype=torch.float64)\n",
      "tensor(17., device='cuda:0', dtype=torch.float64)\n",
      "tensor(1.9864e-30, device='cuda:0', dtype=torch.float64)\n",
      "tensor(18., device='cuda:0', dtype=torch.float64)\n",
      "tensor(8.1063e-30, device='cuda:0', dtype=torch.float64)\n",
      "tensor(19., device='cuda:0', dtype=torch.float64)\n",
      "tensor(2.6149e-29, device='cuda:0', dtype=torch.float64)\n",
      "tensor(20., device='cuda:0', dtype=torch.float64)\n",
      "tensor(9.4690e-29, device='cuda:0', dtype=torch.float64)\n",
      "tensor(21., device='cuda:0', dtype=torch.float64)\n",
      "tensor(1.8952e-28, device='cuda:0', dtype=torch.float64)\n",
      "tensor(22., device='cuda:0', dtype=torch.float64)\n",
      "tensor(3.2118e-28, device='cuda:0', dtype=torch.float64)\n",
      "tensor(23., device='cuda:0', dtype=torch.float64)\n",
      "tensor(3.4384e-28, device='cuda:0', dtype=torch.float64)\n",
      "tensor(24., device='cuda:0', dtype=torch.float64)\n",
      "tensor(2.8387e-28, device='cuda:0', dtype=torch.float64)\n",
      "tensor(25., device='cuda:0', dtype=torch.float64)\n",
      "tensor(3.5682e-28, device='cuda:0', dtype=torch.float64)\n",
      "tensor(26., device='cuda:0', dtype=torch.float64)\n",
      "tensor(2.1961e-28, device='cuda:0', dtype=torch.float64)\n",
      "tensor(27., device='cuda:0', dtype=torch.float64)\n",
      "tensor(3.6469e-28, device='cuda:0', dtype=torch.float64)\n",
      "tensor(28., device='cuda:0', dtype=torch.float64)\n",
      "tensor(3.5110e-28, device='cuda:0', dtype=torch.float64)\n",
      "tensor(29., device='cuda:0', dtype=torch.float64)\n",
      "tensor(2.9071e-28, device='cuda:0', dtype=torch.float64)\n",
      "tensor(30., device='cuda:0', dtype=torch.float64)\n"
     ]
    }
   ],
   "source": [
    "# solve by the sinkhorn on log domain\n",
    "reg=1e-3\n",
    "f,g,regk = sinkhorn_on_log_domain_GPU(a, b, M, reg, epsilon0 = 1e6, numItermax=30,stopThr=1e-9)\n",
    "def get_K(alpha, beta,reg,M):\n",
    "    \"\"\"log space computation\"\"\"\n",
    "    device = torch.device('cuda')\n",
    "    M_ = torch.as_tensor(M, dtype=torch.float64,device=device)\n",
    "    return torch.exp(-(M_ - alpha - beta) / reg),M_\n",
    "T_log_domain,M_ = get_K(f, g,regk,M)\n",
    "distance_log = torch.sum(torch.mul(T_log_domain,M_))"
   ]
  },
  {
   "cell_type": "code",
   "execution_count": 20,
   "id": "41db2303",
   "metadata": {},
   "outputs": [
    {
     "name": "stdout",
     "output_type": "stream",
     "text": [
      "tensor(5.5415e-16, device='cuda:0', dtype=torch.float64)\n",
      "tensor(1.9282e-06, device='cuda:0', dtype=torch.float64)\n",
      "tensor(4.7927e-07, device='cuda:0', dtype=torch.float64)\n",
      "We keep 4.125e+04/2.500e+05 = 16.500% of the original kernel matrix.\n",
      "tensor(4.0134e-06, device='cuda:0', dtype=torch.float64)\n",
      "tensor(1.5817e-06, device='cuda:0', dtype=torch.float64)\n",
      "tensor(8.9029e-07, device='cuda:0', dtype=torch.float64)\n",
      "tensor(0.8730, device='cuda:0', dtype=torch.float64)\n"
     ]
    }
   ],
   "source": [
    "# solve by the sparse sinkhorn \n",
    "\n",
    "from mytools import load_image,RGB_cloud,get_measure,combine_measure,squared_distances,sort_clusters,progate\n",
    "\n",
    "def multi_level_sinkhorn(a,b,X_i,Y_j,reg = 1e-3):\n",
    "    eps = 0.1  # Size of our square bins \n",
    "    x_labels_ = grid_cluster(X_i, eps)  # class labels\n",
    "    y_labels_ = grid_cluster(Y_j, eps)  # class labels\n",
    "    x_ranges, x_centroids, _ = cluster_ranges_centroids(X_i, x_labels_)\n",
    "    y_ranges, y_centroids, _ = cluster_ranges_centroids(Y_j, y_labels_)\n",
    "    x, x_labels,orginalx = sort_clusters(X_i, x_labels_)\n",
    "    y, y_labels,orginaly = sort_clusters(Y_j, y_labels_)\n",
    "    measurex = torch.as_tensor(a).type(dtype)\n",
    "    measurey = torch.as_tensor(b).type(dtype) \n",
    "    mux = combine_measure(x_labels,a)\n",
    "    muy = combine_measure(y_labels,b)\n",
    "    # solve the first layer\n",
    "    reg = 1e-1\n",
    "    debug = 0\n",
    "    f,g,regk = sinkhorn_on_log_domain_GPU_keops(mux, muy, x_centroids, y_centroids , reg,  \n",
    "                                                epsilon0 = 1e6, numItermax=30,stopThr=1e-9,\n",
    "                                                debug=debug,ranges = None)\n",
    "\n",
    "\n",
    "    torch.cuda.empty_cache()\n",
    "    x_centroids_cpu = x_centroids.cpu()\n",
    "    y_centroids_cpu = y_centroids.cpu()\n",
    "    f_cpu = f.cpu()\n",
    "    g_cpu = g.cpu()\n",
    "    x_ranges_cpu = x_ranges.cpu()\n",
    "    y_ranges_cpu = y_ranges.cpu()\n",
    "    D_cpu =  -torch.sum((x_centroids_cpu[:, None, :] - y_centroids_cpu[None, :, :]) ** 2, 2) + f_cpu + g_cpu.t()\n",
    "\n",
    "\n",
    "\n",
    "    thetalist = torch.logspace(-10,-12,steps=100)\n",
    "    for theta in  thetalist:\n",
    "        #print(theta)\n",
    "\n",
    "        theta = torch.as_tensor(theta).type(dtype)\n",
    "        temp = torch.log(theta)* regk\n",
    "        keep = D_cpu > temp.cpu()\n",
    "        ranges_ij_cpu   = from_matrix(x_ranges_cpu, y_ranges_cpu, keep)\n",
    "\n",
    "\n",
    "        if torch.all(torch.sum(keep,dim=0)>0) and torch.all(torch.sum(keep,dim=1)>0):\n",
    "            break\n",
    "\n",
    "\n",
    "    ranges_ij  = (ranges_ij_cpu[0].cuda(),ranges_ij_cpu[1].cuda(),\n",
    "                  ranges_ij_cpu[2].cuda(),ranges_ij_cpu[3].cuda(),\n",
    "                  ranges_ij_cpu[4].cuda(),ranges_ij_cpu[5].cuda())\n",
    "\n",
    "    areas = (x_ranges[:, 1] - x_ranges[:, 0])[:, None] * (y_ranges[:, 1] - y_ranges[:, 0])[\n",
    "        None, :\n",
    "    ]\n",
    "    total_area = torch.sum(areas)  # should be equal to N*M\n",
    "    sparse_area = torch.sum(areas[keep])\n",
    "    print(\n",
    "        \"We keep {:.3e}/{:.3e} = {:.3f}% of the original kernel matrix.\".format(\n",
    "            sparse_area, total_area, float(100 * sparse_area / total_area)\n",
    "        )\n",
    "    )\n",
    "    # progagation \n",
    "    fnew = progate(f,x_labels)  \n",
    "    gnew = progate(g,y_labels)  \n",
    "    fnew_ = LazyTensor(fnew[:, None])\n",
    "    gnew_ = LazyTensor(gnew[:, None])\n",
    "    \n",
    "\n",
    "    debug = 0\n",
    "\n",
    "    fall,gall,regk = sinkhorn_on_log_domain_GPU_keops(measurex, measurey, X_i, Y_j, reg,\n",
    "                                                      epsilon0 = 1e1, numItermax=30,stopThr=1e-9,ranges = ranges_ij,\n",
    "                                                       warmf=fnew,warmg=gnew, debug=debug)\n",
    "    subset = ranges_ij\n",
    "    return fall,gall,regk,subset\n",
    "\n",
    "\n",
    "\n",
    "fall,gall,regk,subset = multi_level_sinkhorn(a,b,X_i,Y_j,1e-3)\n",
    "distance_sparse = compute_distance(d,X_i,Y_j,fall,gall,regk,ranges_ij=subset)\n",
    "print(distance_sparse)"
   ]
  },
  {
   "cell_type": "code",
   "execution_count": 21,
   "id": "21b6688d",
   "metadata": {},
   "outputs": [],
   "source": [
    "# for high dimention problem\n",
    "d = 10\n",
    "n = 50000\n",
    "X_i_cpu = np.random.randn(n,d) \n",
    "Y_j_cpu = np.random.randn(n,d)\n",
    "X_i = torch.from_numpy(X_i_cpu).type(dtype).view(-1, d)\n",
    "Y_j = torch.from_numpy(Y_j_cpu).type(dtype).view(-1, d)\n",
    "a = np.ones((len(X_i_cpu),1))/X_i_cpu.shape[0]\n",
    "b = np.ones((len(Y_j_cpu),1))/Y_j_cpu.shape[0]\n"
   ]
  },
  {
   "cell_type": "code",
   "execution_count": 22,
   "id": "97d49ec9",
   "metadata": {},
   "outputs": [
    {
     "ename": "MemoryError",
     "evalue": "Unable to allocate 186. GiB for an array with shape (50000, 50000, 10) and data type float64",
     "output_type": "error",
     "traceback": [
      "\u001b[0;31m---------------------------------------------------------------------------\u001b[0m",
      "\u001b[0;31mMemoryError\u001b[0m                               Traceback (most recent call last)",
      "Cell \u001b[0;32mIn [22], line 4\u001b[0m\n\u001b[1;32m      1\u001b[0m \u001b[38;5;66;03m# solve by the pot !pip install POTa\u001b[39;00m\n\u001b[1;32m      2\u001b[0m \u001b[38;5;28;01mimport\u001b[39;00m \u001b[38;5;21;01mot\u001b[39;00m\n\u001b[0;32m----> 4\u001b[0m M \u001b[38;5;241m=\u001b[39m np\u001b[38;5;241m.\u001b[39msum((\u001b[43mX_i_cpu\u001b[49m\u001b[43m[\u001b[49m\u001b[43m:\u001b[49m\u001b[43m,\u001b[49m\u001b[43m \u001b[49m\u001b[38;5;28;43;01mNone\u001b[39;49;00m\u001b[43m,\u001b[49m\u001b[43m \u001b[49m\u001b[43m:\u001b[49m\u001b[43m]\u001b[49m\u001b[43m \u001b[49m\u001b[38;5;241;43m-\u001b[39;49m\u001b[43m \u001b[49m\u001b[43mY_j_cpu\u001b[49m\u001b[43m[\u001b[49m\u001b[38;5;28;43;01mNone\u001b[39;49;00m\u001b[43m,\u001b[49m\u001b[43m \u001b[49m\u001b[43m:\u001b[49m\u001b[43m,\u001b[49m\u001b[43m \u001b[49m\u001b[43m:\u001b[49m\u001b[43m]\u001b[49m) \u001b[38;5;241m*\u001b[39m\u001b[38;5;241m*\u001b[39m \u001b[38;5;241m2\u001b[39m, \u001b[38;5;241m2\u001b[39m)\n\u001b[1;32m      5\u001b[0m T \u001b[38;5;241m=\u001b[39m ot\u001b[38;5;241m.\u001b[39memd(np\u001b[38;5;241m.\u001b[39msqueeze(a), np\u001b[38;5;241m.\u001b[39msqueeze(b), M)  \u001b[38;5;66;03m# exact linear program\u001b[39;00m\n\u001b[1;32m      6\u001b[0m distance \u001b[38;5;241m=\u001b[39m np\u001b[38;5;241m.\u001b[39msum(np\u001b[38;5;241m.\u001b[39mmultiply(T,M))\n",
      "\u001b[0;31mMemoryError\u001b[0m: Unable to allocate 186. GiB for an array with shape (50000, 50000, 10) and data type float64"
     ]
    }
   ],
   "source": [
    "# solve by the pot !pip install POTa  caused memory problems\n",
    "import ot\n",
    "\n",
    "M = np.sum((X_i_cpu[:, None, :] - Y_j_cpu[None, :, :]) ** 2, 2)\n",
    "T = ot.emd(np.squeeze(a), np.squeeze(b), M)  # exact linear program\n",
    "distance = np.sum(np.multiply(T,M))"
   ]
  },
  {
   "cell_type": "code",
   "execution_count": 27,
   "id": "9f1cfd18",
   "metadata": {},
   "outputs": [
    {
     "name": "stdout",
     "output_type": "stream",
     "text": [
      "tensor(9.8635e-17, device='cuda:0', dtype=torch.float64)\n",
      "tensor(0.0003, device='cuda:0', dtype=torch.float64)\n",
      "tensor(6.9727e-05, device='cuda:0', dtype=torch.float64)\n"
     ]
    }
   ],
   "source": [
    "from SparseSinkhorn import  sinkhorn_on_log_domain_GPU_keops_high_dimension\n",
    "measurex = torch.as_tensor(a).type(dtype)\n",
    "measurey = torch.as_tensor(b).type(dtype) \n",
    "dimension = 10\n",
    "reg = 1e-4\n",
    "fall,gall,regk = sinkhorn_on_log_domain_GPU_keops_high_dimension(dimension,measurex, measurey, X_i, Y_j, reg, debug = 0,\n",
    "                                                 epsilon0 = 1e6, numItermax=30,stopThr=1e-9 )"
   ]
  },
  {
   "cell_type": "code",
   "execution_count": 10,
   "id": "fbc0e25f",
   "metadata": {},
   "outputs": [],
   "source": [
    "# compare the three results\n",
    "print(distance_sparse)"
   ]
  }
 ],
 "metadata": {
  "kernelspec": {
   "display_name": "Python 3 (ipykernel)",
   "language": "python",
   "name": "python3"
  },
  "language_info": {
   "codemirror_mode": {
    "name": "ipython",
    "version": 3
   },
   "file_extension": ".py",
   "mimetype": "text/x-python",
   "name": "python",
   "nbconvert_exporter": "python",
   "pygments_lexer": "ipython3",
   "version": "3.10.4"
  }
 },
 "nbformat": 4,
 "nbformat_minor": 5
}
