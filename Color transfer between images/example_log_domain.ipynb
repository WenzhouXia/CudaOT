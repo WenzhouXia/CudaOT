{
 "cells": [
  {
   "cell_type": "code",
   "execution_count": 1,
   "id": "aaa13e07",
   "metadata": {},
   "outputs": [
    {
     "name": "stderr",
     "output_type": "stream",
     "text": [
      "/home/chenyidong/anaconda4/lib/python3.10/site-packages/tqdm/auto.py:22: TqdmWarning: IProgress not found. Please update jupyter and ipywidgets. See https://ipywidgets.readthedocs.io/en/stable/user_install.html\n",
      "  from .autonotebook import tqdm as notebook_tqdm\n"
     ]
    }
   ],
   "source": [
    "import os.path\n",
    "import sys\n",
    "sys.path.append('/home/chenyidong/keops')\n",
    "import numpy as np\n",
    "import torch\n",
    "from random import choices\n",
    "import imageio\n",
    "from pykeops.torch import LazyTensor\n",
    "from pykeops.torch.cluster import grid_cluster\n",
    "import pandas as pd\n",
    "import numpy as np\n",
    "from pykeops.torch.cluster import cluster_ranges_centroids\n",
    "from pykeops.torch import generic_argmin\n",
    "from pykeops.torch import generic_argmin\n",
    "from pykeops.torch import generic_sum,generic_logsumexp,generic_argmin\n",
    "from pykeops.torch import generic_argmin\n",
    "from pykeops.torch import generic_sum,generic_logsumexp,generic_argmin\n",
    "use_cuda = torch.cuda.is_available()\n",
    "dtype = torch.cuda.DoubleTensor if use_cuda else torch.FloatTensor\n",
    "from mytools import load_image,RGB_cloud,get_measure,combine_measure,squared_distances,sort_clusters,progate\n",
    "from SparseSinkhorn import  sinkhorn_on_log_domain_GPU_keops,sinkhorn_on_log_domain_GPU"
   ]
  },
  {
   "cell_type": "code",
   "execution_count": 2,
   "id": "c8ae57e8",
   "metadata": {},
   "outputs": [],
   "source": [
    "d = 3\n",
    "n = 500\n",
    "X_i_cpu = np.random.randn(n,d) \n",
    "Y_j_cpu = np.random.randn(n,d)\n",
    "X_i = torch.from_numpy(X_i_cpu).type(dtype).view(-1, 3)\n",
    "Y_j = torch.from_numpy(Y_j_cpu).type(dtype).view(-1, 3)"
   ]
  },
  {
   "cell_type": "code",
   "execution_count": 3,
   "id": "28fe3a13",
   "metadata": {},
   "outputs": [],
   "source": [
    "# solve by the pot !pip install POTa\n",
    "import ot\n",
    "a = np.ones((len(X_i_cpu),1))/X_i_cpu.shape[0]\n",
    "b = np.ones((len(Y_j_cpu),1))/Y_j_cpu.shape[0]\n",
    "M = np.sum((X_i_cpu[:, None, :] - Y_j_cpu[None, :, :]) ** 2, 2)\n",
    "T = ot.emd(np.squeeze(a), np.squeeze(b), M)  # exact linear program\n",
    "distance = np.sum(np.multiply(T,M))"
   ]
  },
  {
   "cell_type": "code",
   "execution_count": 4,
   "id": "2bfe4685",
   "metadata": {},
   "outputs": [
    {
     "name": "stdout",
     "output_type": "stream",
     "text": [
      "tensor(1.2109e-30, device='cuda:0', dtype=torch.float64)\n",
      "tensor(1., device='cuda:0', dtype=torch.float64)\n",
      "tensor(6.3862e-31, device='cuda:0', dtype=torch.float64)\n",
      "tensor(2., device='cuda:0', dtype=torch.float64)\n",
      "tensor(1.1816e-30, device='cuda:0', dtype=torch.float64)\n",
      "tensor(3., device='cuda:0', dtype=torch.float64)\n",
      "tensor(5.6668e-31, device='cuda:0', dtype=torch.float64)\n",
      "tensor(4., device='cuda:0', dtype=torch.float64)\n",
      "tensor(1.4085e-30, device='cuda:0', dtype=torch.float64)\n",
      "tensor(5., device='cuda:0', dtype=torch.float64)\n",
      "tensor(5.6809e-31, device='cuda:0', dtype=torch.float64)\n",
      "tensor(6., device='cuda:0', dtype=torch.float64)\n",
      "tensor(6.0627e-31, device='cuda:0', dtype=torch.float64)\n",
      "tensor(7., device='cuda:0', dtype=torch.float64)\n",
      "tensor(1.1605e-30, device='cuda:0', dtype=torch.float64)\n",
      "tensor(8., device='cuda:0', dtype=torch.float64)\n",
      "tensor(5.5991e-31, device='cuda:0', dtype=torch.float64)\n",
      "tensor(9., device='cuda:0', dtype=torch.float64)\n",
      "tensor(1.2439e-30, device='cuda:0', dtype=torch.float64)\n",
      "tensor(10., device='cuda:0', dtype=torch.float64)\n",
      "tensor(6.2141e-31, device='cuda:0', dtype=torch.float64)\n",
      "tensor(11., device='cuda:0', dtype=torch.float64)\n",
      "tensor(7.5824e-31, device='cuda:0', dtype=torch.float64)\n",
      "tensor(12., device='cuda:0', dtype=torch.float64)\n",
      "tensor(4.2393e-31, device='cuda:0', dtype=torch.float64)\n",
      "tensor(13., device='cuda:0', dtype=torch.float64)\n",
      "tensor(4.2515e-31, device='cuda:0', dtype=torch.float64)\n",
      "tensor(14., device='cuda:0', dtype=torch.float64)\n",
      "tensor(3.1221e-31, device='cuda:0', dtype=torch.float64)\n",
      "tensor(15., device='cuda:0', dtype=torch.float64)\n",
      "tensor(2.3764e-31, device='cuda:0', dtype=torch.float64)\n",
      "tensor(16., device='cuda:0', dtype=torch.float64)\n",
      "tensor(8.5670e-31, device='cuda:0', dtype=torch.float64)\n",
      "tensor(17., device='cuda:0', dtype=torch.float64)\n",
      "tensor(2.4636e-30, device='cuda:0', dtype=torch.float64)\n",
      "tensor(18., device='cuda:0', dtype=torch.float64)\n",
      "tensor(1.4544e-29, device='cuda:0', dtype=torch.float64)\n",
      "tensor(19., device='cuda:0', dtype=torch.float64)\n",
      "tensor(5.3121e-29, device='cuda:0', dtype=torch.float64)\n",
      "tensor(20., device='cuda:0', dtype=torch.float64)\n",
      "tensor(1.7076e-28, device='cuda:0', dtype=torch.float64)\n",
      "tensor(21., device='cuda:0', dtype=torch.float64)\n",
      "tensor(2.7141e-28, device='cuda:0', dtype=torch.float64)\n",
      "tensor(22., device='cuda:0', dtype=torch.float64)\n",
      "tensor(4.3559e-28, device='cuda:0', dtype=torch.float64)\n",
      "tensor(23., device='cuda:0', dtype=torch.float64)\n",
      "tensor(4.8757e-28, device='cuda:0', dtype=torch.float64)\n",
      "tensor(24., device='cuda:0', dtype=torch.float64)\n",
      "tensor(3.5295e-28, device='cuda:0', dtype=torch.float64)\n",
      "tensor(25., device='cuda:0', dtype=torch.float64)\n",
      "tensor(4.5008e-28, device='cuda:0', dtype=torch.float64)\n",
      "tensor(26., device='cuda:0', dtype=torch.float64)\n",
      "tensor(5.0937e-28, device='cuda:0', dtype=torch.float64)\n",
      "tensor(27., device='cuda:0', dtype=torch.float64)\n",
      "tensor(5.1905e-28, device='cuda:0', dtype=torch.float64)\n",
      "tensor(28., device='cuda:0', dtype=torch.float64)\n",
      "tensor(4.0012e-28, device='cuda:0', dtype=torch.float64)\n",
      "tensor(29., device='cuda:0', dtype=torch.float64)\n",
      "tensor(3.6679e-28, device='cuda:0', dtype=torch.float64)\n",
      "tensor(30., device='cuda:0', dtype=torch.float64)\n"
     ]
    }
   ],
   "source": [
    "# solve by the sinkhorn on log domain\n",
    "reg=1e-3\n",
    "f,g,regk = sinkhorn_on_log_domain_GPU(a, b, M, reg, epsilon0 = 1e6, numItermax=30,stopThr=1e-9)\n",
    "def get_K(alpha, beta,reg,M):\n",
    "    \"\"\"log space computation\"\"\"\n",
    "    device = torch.device('cuda')\n",
    "    M_ = torch.as_tensor(M, dtype=torch.float64,device=device)\n",
    "    return torch.exp(-(M_ - alpha - beta) / reg),M_\n",
    "T_log_domain,M_ = get_K(f, g,regk,M)\n",
    "distance_log = torch.sum(torch.mul(T_log_domain,M_))"
   ]
  },
  {
   "cell_type": "code",
   "execution_count": 5,
   "id": "8c969cfd",
   "metadata": {},
   "outputs": [
    {
     "name": "stdout",
     "output_type": "stream",
     "text": [
      "tensor(0.2506, device='cuda:0', dtype=torch.float64)\n",
      "0.2504988107340873\n"
     ]
    }
   ],
   "source": [
    "print(distance_log)\n",
    "print(distance)"
   ]
  }
 ],
 "metadata": {
  "kernelspec": {
   "display_name": "Python 3 (ipykernel)",
   "language": "python",
   "name": "python3"
  },
  "language_info": {
   "codemirror_mode": {
    "name": "ipython",
    "version": 3
   },
   "file_extension": ".py",
   "mimetype": "text/x-python",
   "name": "python",
   "nbconvert_exporter": "python",
   "pygments_lexer": "ipython3",
   "version": "3.10.4"
  }
 },
 "nbformat": 4,
 "nbformat_minor": 5
}
